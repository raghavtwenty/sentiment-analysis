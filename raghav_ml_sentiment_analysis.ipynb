{
  "nbformat": 4,
  "nbformat_minor": 0,
  "metadata": {
    "colab": {
      "provenance": []
    },
    "kernelspec": {
      "name": "python3",
      "display_name": "Python 3"
    },
    "language_info": {
      "name": "python"
    },
    "accelerator": "GPU",
    "gpuClass": "standard"
  },
  "cells": [
    {
      "cell_type": "markdown",
      "source": [
        "Title : Sentiment analysis using Hugging face library <br>\n",
        "Author : raghav | Github : @raghavtwenty <br>\n",
        "Date Created : April 19, 2023 | Last Updated : April 20\n",
        ", 2023 <br>\n",
        "Language : Python | Version : Google Colab"
      ],
      "metadata": {
        "id": "TP-HVOVdv_Ge"
      }
    },
    {
      "cell_type": "markdown",
      "source": [
        "Installing the required libraries - Hugging Face"
      ],
      "metadata": {
        "id": "VwlAT4PFu74e"
      }
    },
    {
      "cell_type": "code",
      "source": [
        "# Uncomment the next line, when you run for the first time.\n",
        "!pip install -q transformers "
      ],
      "metadata": {
        "id": "YOoFt6scuzbA"
      },
      "execution_count": null,
      "outputs": []
    },
    {
      "cell_type": "markdown",
      "source": [
        "Importing the installed libraries"
      ],
      "metadata": {
        "id": "lk84dFg1vNym"
      }
    },
    {
      "cell_type": "code",
      "execution_count": null,
      "metadata": {
        "id": "x53WThK_tvPy"
      },
      "outputs": [],
      "source": [
        "from transformers import pipeline"
      ]
    },
    {
      "cell_type": "markdown",
      "source": [
        "Create a class and pass the type as sentiment analysis"
      ],
      "metadata": {
        "id": "XRMqieZJvUwa"
      }
    },
    {
      "cell_type": "code",
      "source": [
        "Sentiment_Pipeline = pipeline(\"sentiment-analysis\")"
      ],
      "metadata": {
        "id": "yxsZM06LulTN"
      },
      "execution_count": null,
      "outputs": []
    },
    {
      "cell_type": "markdown",
      "source": [
        "Save your input statement to the text variable"
      ],
      "metadata": {
        "id": "hRZ8MzPPvcQ5"
      }
    },
    {
      "cell_type": "code",
      "source": [
        "Text = str(input(\"Enter your text : \"))"
      ],
      "metadata": {
        "colab": {
          "base_uri": "https://localhost:8080/"
        },
        "id": "jVTmnKTVuvfC",
        "outputId": "85bd1890-ddf9-4450-8d86-56367de83005"
      },
      "execution_count": null,
      "outputs": [
        {
          "name": "stdout",
          "output_type": "stream",
          "text": [
            "Enter your text : i am happy\n"
          ]
        }
      ]
    },
    {
      "cell_type": "markdown",
      "source": [
        "Final Show"
      ],
      "metadata": {
        "id": "pK3XEL_avsUT"
      }
    },
    {
      "cell_type": "code",
      "source": [
        "print(f'Text : {Text} \\n Result : {Sentiment_Pipeline(Text)}')"
      ],
      "metadata": {
        "colab": {
          "base_uri": "https://localhost:8080/"
        },
        "id": "Pz2oTkw6uxxk",
        "outputId": "ba8c5cbe-a582-4be3-8ba3-7a00e47f2af4"
      },
      "execution_count": null,
      "outputs": [
        {
          "output_type": "stream",
          "name": "stdout",
          "text": [
            "Text : i am happy \n",
            " Result : [{'label': 'POSITIVE', 'score': 0.9998801946640015}]\n"
          ]
        }
      ]
    }
  ]
}